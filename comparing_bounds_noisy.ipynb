{
 "cells": [
  {
   "cell_type": "code",
   "execution_count": null,
   "id": "ffb601dc",
   "metadata": {},
   "outputs": [],
   "source": [
    "# importing dependencies\n",
    "import numpy as np\n",
    "import matplotlib.pyplot as plt\n",
    "import pandas as pd\n",
    "from scipy.linalg import null_space\n"
   ]
  },
  {
   "cell_type": "code",
   "execution_count": null,
   "id": "f25dd20e",
   "metadata": {},
   "outputs": [],
   "source": [
    "# function to run the Randomized Kaczmarz algorithm\n",
    "def RK(A, b, x_ref):\n",
    "    \" this function takes as inputs a matrix A, vector b, and a point x_star and returns \"\n",
    "    \"the mean approximation error E[||x_k - x_ref||^2] and the mean of the iterates E[x_k] across multiple runs\"\n",
    "\n",
    "    # generating probabilities of choosing the rows\n",
    "    frob_norm_A = np.linalg.norm(A, ord='fro')\n",
    "    probas = (np.linalg.norm(A, axis=1)/frob_norm_A)**2\n",
    "\n",
    "    approx_error = np.zeros((n_iter+1,))\n",
    "    sum_iterates = np.zeros((n_iter+1,A.shape[1]))\n",
    "       \n",
    "    for r in range(int(n_run)):\n",
    "\n",
    "        x = x_0   # initialization\n",
    "        \n",
    "        run_approx_error = []\n",
    "        run_approx_error.append(np.linalg.norm(x - x_ref)**2)\n",
    "        run_iterates = []\n",
    "        run_iterates.append(x)\n",
    "\n",
    "        for i in range(int(n_iter)):\n",
    "            row_idx = int(np.random.choice(A.shape[0], 1, p=probas))\n",
    "            if np.linalg.norm(A[row_idx,:])==0:\n",
    "                continue\n",
    "            else:\n",
    "                x = x + (b[row_idx] - np.dot(A[row_idx,:],x))/((np.linalg.norm(A[row_idx,:], ord=2))**2)*A[row_idx,:]\n",
    "                run_approx_error.append(np.linalg.norm(x - x_ref)**2)\n",
    "                run_iterates.append(x)\n",
    "        \n",
    "        sum_iterates += np.array(run_iterates)\n",
    "        approx_error += np.array(run_approx_error)\n",
    "                \n",
    "        print(\"end run\", r)\n",
    "\n",
    "    return(approx_error/(n_run),sum_iterates/(n_run))"
   ]
  },
  {
   "cell_type": "code",
   "execution_count": null,
   "id": "29e03177",
   "metadata": {},
   "outputs": [],
   "source": [
    "# Generating the noisy data\n",
    "m = 1000\n",
    "n = 500\n",
    "r = 300\n",
    "noisy_A = np.random.randn(m,r) @ np.random.randn(r,n)\n",
    "basis_nullSpaceNoisyAT = null_space(noisy_A.T)\n",
    "w = basis_nullSpaceNoisyAT@np.random.randn(basis_nullSpaceNoisyAT.shape[1],)  # w is a vector in the orthogonal complement of the column space of noisy_A\n",
    "w = w/np.linalg.norm(w, ord=2)   # ||w||=1\n",
    "y = noisy_A@np.random.randn(n,)  # y is a vector in the column space of noisy_A\n",
    "beta = 10\n",
    "noisy_b = y + beta*w\n",
    "# noisy_b = np.zeros((m,))\n",
    "\n",
    "\n",
    "\n",
    "# ####### Using Real-World Data\n",
    "# data = pd.read_csv('a1a.csv', sep=',', header=None)\n",
    "# print(data.head())\n",
    "# m = data.shape[0]\n",
    "# n = data.shape[1]-1\n",
    "# noisy_A = np.array(data.iloc[: , 0:n])\n",
    "# noisy_b = np.array(data.iloc[: , -1])\n",
    "\n",
    "# rank_noisy_A = np.linalg.matrix_rank(noisy_A)\n",
    "# augg = np.column_stack((noisy_A,noisy_b))\n",
    "# rank_aug = np.linalg.matrix_rank(augg)\n",
    "# print(\"noisy_A is full rank:\", rank_noisy_A==n)\n",
    "# print(\"rank(noisy_A) = \",rank_noisy_A)\n",
    "# print(\"rank(noisy_A|noisy_b) = \",rank_aug)\n",
    "# print(\"system is consistent:  \", rank_noisy_A == rank_aug)"
   ]
  },
  {
   "cell_type": "code",
   "execution_count": null,
   "id": "8fead015",
   "metadata": {},
   "outputs": [],
   "source": [
    "# starting point\n",
    "x_0 = 40*np.random.randn(n,) "
   ]
  },
  {
   "cell_type": "code",
   "execution_count": null,
   "id": "68787fd7",
   "metadata": {},
   "outputs": [],
   "source": [
    "# reference point\n",
    "# x_star = np.random.randn(n,)   # x_star is random\n",
    "x_star = np.linalg.pinv(noisy_A)@noisy_b  # x_star = the least squares solution of the noisy system\n",
    "# U, s, Vt = np.linalg.svd(noisy_A, full_matrices=True)\n",
    "# x_star = Vt[r-1,:]  # x_star = the smallest right singular vector"
   ]
  },
  {
   "cell_type": "code",
   "execution_count": null,
   "id": "e81d1f5a",
   "metadata": {},
   "outputs": [],
   "source": [
    "# projection of x_0 on the null space of noisy_A\n",
    "null_spaceNoisyA = null_space(noisy_A)\n",
    "orthogonal_basis = null_spaceNoisyA\n",
    "dot_product_values = (x_0.T) @ orthogonal_basis\n",
    "mult_basis = np.zeros(orthogonal_basis.shape)\n",
    "for i in range(len(dot_product_values)):\n",
    "    mult_basis[:,i] = dot_product_values[i]*orthogonal_basis[:,i]\n",
    "x0_n =  np.sum( mult_basis , axis=1)\n",
    "x0_r = x_0 - x0_n\n",
    "\n",
    "\n",
    "\n",
    "\n",
    "# projection of x_star on the row space of noisy_A (i.e., the column space of noisy_A.T)\n",
    "dot_product_values = (x_star.T) @ orthogonal_basis\n",
    "mult_basis = np.zeros(orthogonal_basis.shape)\n",
    "for i in range(len(dot_product_values)):\n",
    "    mult_basis[:,i] = dot_product_values[i]*orthogonal_basis[:,i]\n",
    "x_star_n =  np.sum( mult_basis , axis=1)\n",
    "x_star_r = x_star - x_star_n"
   ]
  },
  {
   "cell_type": "code",
   "execution_count": null,
   "id": "caf767ee",
   "metadata": {},
   "outputs": [],
   "source": [
    "# Running the RK algorithm\n",
    "\n",
    "n_iter = 150000   # number of iterations\n",
    "n_run = 20        # number of runs of the algorithm\n",
    "\n",
    "approx_error, mean_iterates = RK(noisy_A, noisy_b, x0_n+x_star_r)"
   ]
  },
  {
   "cell_type": "code",
   "execution_count": null,
   "id": "efb29f8b",
   "metadata": {},
   "outputs": [],
   "source": [
    "# computing the approximation errors\n",
    "approx_error_sqrt =  np.sqrt(approx_error)  # approx_error_sqrt = sqrt(E[||x_k-x_0^n-x_*^r||^2])\n",
    "approx_error_norm = np.linalg.norm(mean_iterates-x0_n-x_star_r, axis=1) # approx_error_norm = ||E[x_k]-x_0^n-x_*^r||"
   ]
  },
  {
   "cell_type": "code",
   "execution_count": null,
   "id": "d27303e5",
   "metadata": {},
   "outputs": [],
   "source": [
    "# computing the smallest non zero singular value of noisy_A\n",
    "U, s, Vt = np.linalg.svd(noisy_A)\n",
    "s = [x for x in s if x>1e-8]\n",
    "sigma_min = min(s)\n",
    "\n",
    "# computing the bounds\n",
    "bound_thm = [] # square root of bound of Theorem 2.2\n",
    "bound_cor = [] # bound of Corollary 3.5\n",
    "Rtld = (np.linalg.norm(noisy_A, ord='fro')/sigma_min)**2\n",
    "h = np.linalg.norm(noisy_A @ x_star - noisy_b, ord=2)/sigma_min  # horizon\n",
    "for k in range(n_iter):\n",
    "    bound_thm.append(sqrt((1-1/Rtld)**(k)*(np.linalg.norm(x0_r - x_star_r, ord=2)**2) + h**2))\n",
    "    bound_cor.append((1-1/Rtld)**(k)*np.linalg.norm(x0_r - x_star_r, ord=2) + h)\n"
   ]
  },
  {
   "cell_type": "code",
   "execution_count": null,
   "id": "31ab08b0",
   "metadata": {},
   "outputs": [],
   "source": [
    "# plotting the results\n",
    "\n",
    "plt.figure(figsize=(9.5, 5.5))\n",
    "\n",
    "plt.plot(bound_thm, label='Bound Theorem 2.2', color='#e41a1c', linestyle='dashdot', linewidth=3)\n",
    "plt.plot(bound_cor, label='Bound Corollary 3.5', color='#4daf4a', linestyle='dashed', linewidth=3)\n",
    "plt.plot(approx_error_sqrt, label=r'$\\sqrt{\\mathbf{\\mathbb{E}}\\left[\\Vert x_k-x_0^n- x_{*}^r \\Vert ^2 \\right]}$', color='#377eb8', linewidth=3, marker=\"^\", markersize=10, markevery=20000)\n",
    "plt.plot(approx_error_norm, label=r'$\\Vert \\mathbf{\\mathbb{E}}\\left[x_k\\right]-x_0^n- x_{*}^r \\Vert$', color = '#984EA3', linewidth=3, marker=\"x\", markersize=15, markeredgewidth=2, markevery=23000)\n",
    "\n",
    "plt.title(r'$m=%d$'%(m)+',  '+r'$n=%d$'%(n)+',  '+r'$rank(\\widetilde A)=%d$'%(np.linalg.matrix_rank(noisy_A)), fontsize = 24)\n",
    "plt.xlabel(\"Iterations\",fontsize = 26)\n",
    "plt.rcParams['xtick.labelsize']=24\n",
    "plt.rcParams['ytick.labelsize']=24\n",
    "plt.legend(fontsize=23)\n",
    "plt.xlim(0,n_iter)\n",
    "plt.yscale('log')\n",
    "plt.grid(linestyle = '--')\n",
    "plt.ticklabel_format(style='sci', axis='x', scilimits=(3,3))"
   ]
  }
 ],
 "metadata": {
  "kernelspec": {
   "display_name": "Python 3",
   "language": "python",
   "name": "python3"
  },
  "language_info": {
   "codemirror_mode": {
    "name": "ipython",
    "version": 3
   },
   "file_extension": ".py",
   "mimetype": "text/x-python",
   "name": "python",
   "nbconvert_exporter": "python",
   "pygments_lexer": "ipython3",
   "version": "3.9.2"
  }
 },
 "nbformat": 4,
 "nbformat_minor": 5
}
